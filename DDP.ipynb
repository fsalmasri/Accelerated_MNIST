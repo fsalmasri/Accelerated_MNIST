{
 "cells": [
  {
   "cell_type": "code",
   "execution_count": 1,
   "id": "67516dea-273b-4304-8630-6002707c4fe4",
   "metadata": {},
   "outputs": [
    {
     "name": "stderr",
     "output_type": "stream",
     "text": [
      "/usr/local/lib/python3.9/dist-packages/tqdm/auto.py:21: TqdmWarning: IProgress not found. Please update jupyter and ipywidgets. See https://ipywidgets.readthedocs.io/en/stable/user_install.html\n",
      "  from .autonotebook import tqdm as notebook_tqdm\n"
     ]
    }
   ],
   "source": [
    "import numpy as np \n",
    "from tqdm import tqdm as notebook_tqdm\n",
    "\n",
    "import torch\n",
    "import torchvision\n",
    "from torch import nn, optim\n",
    "from torch.nn import init\n",
    "from torchvision import datasets, transforms\n"
   ]
  },
  {
   "cell_type": "code",
   "execution_count": 2,
   "id": "24634346-a0e4-4242-96d1-d6096d3e5f7f",
   "metadata": {},
   "outputs": [
    {
     "data": {
      "text/plain": [
       "<torch._C.Generator at 0x7fbad79ae4d0>"
      ]
     },
     "execution_count": 2,
     "metadata": {},
     "output_type": "execute_result"
    }
   ],
   "source": [
    "random_seed = 1\n",
    "torch.backends.cudnn.enabled = False\n",
    "torch.manual_seed(random_seed)"
   ]
  },
  {
   "cell_type": "code",
   "execution_count": 3,
   "id": "d937a246-0722-4a36-bf93-3a477e313b7e",
   "metadata": {},
   "outputs": [],
   "source": [
    "def get_loaders(batch_size):\n",
    "    transformer = transforms.Compose([torchvision.transforms.ToTensor()])\n",
    "    train_loader = torch.utils.data.DataLoader(datasets.MNIST('./files/', train=True, download=True, transform=transformer),\n",
    "                                               batch_size=batch_size, shuffle=True)\n",
    "    test_loader = torch.utils.data.DataLoader(datasets.MNIST('./files/', train=False, download=True, transform=transformer),\n",
    "                                                  batch_size=batch_size, shuffle=True)\n",
    "    \n",
    "    return train_loader, test_loader\n",
    "\n",
    "def save_model(mstate, optimizer, epoch, name):\n",
    "    torch.save({'model_state_dict': mstate,\n",
    "                'optimizer': optimizer.state_dict(),\n",
    "                'epoch': epoch},\n",
    "                f'model_{name}.pt')"
   ]
  },
  {
   "cell_type": "code",
   "execution_count": 4,
   "id": "65c6885a-155b-4024-a082-573d0c8b3621",
   "metadata": {},
   "outputs": [],
   "source": [
    "class Net(nn.Module):\n",
    "    def __init__(self):\n",
    "        super(Net, self).__init__()\n",
    "        self.conv1 = nn.Sequential(\n",
    "            nn.Conv2d(1, 10, kernel_size=5, stride=2),\n",
    "            nn.ReLU()\n",
    "        )\n",
    "        self.conv2 = nn.Sequential(\n",
    "            nn.Conv2d(10, 20, kernel_size=5, stride=2),\n",
    "            nn.ReLU(),\n",
    "            nn.Dropout2d(),\n",
    "            nn.Flatten()\n",
    "        )\n",
    "        self.fc1 = nn.Sequential(\n",
    "            nn.Linear(320, 50),\n",
    "            nn.ReLU(),\n",
    "            nn.Dropout()\n",
    "        )\n",
    "        self.fc2 = nn.Linear(50, 10)\n",
    "        \n",
    "        self.apply(self._init_weights)\n",
    "        \n",
    "    def forward(self, x, f):\n",
    "        if f: print(f'\\nIn Model: input size {x.size()}')\n",
    "            \n",
    "        x = self.conv1(x)\n",
    "        x = self.conv2(x)\n",
    "        x = self.fc1(x)\n",
    "        x = self.fc2(x)\n",
    "\n",
    "        return x\n",
    "    \n",
    "    def _init_weights(self, m):\n",
    "        if isinstance(m, (torch.nn.Conv2d, torch.nn.Linear)):\n",
    "            init.kaiming_normal_(m.weight.data, a=0, mode='fan_in', nonlinearity='relu')\n",
    "            if hasattr(m, 'bias') and m.bias is not None:\n",
    "                init.constant_(m.bias.data, 0.0)"
   ]
  },
  {
   "cell_type": "code",
   "execution_count": 5,
   "id": "92b4e43a-7c41-4b8e-93ae-a44f7b0acad9",
   "metadata": {
    "tags": []
   },
   "outputs": [
    {
     "name": "stdout",
     "output_type": "stream",
     "text": [
      "There are: 2 GPUs!\n"
     ]
    },
    {
     "name": "stderr",
     "output_type": "stream",
     "text": [
      "  0%|                                                   | 0/240 [00:00<?, ?it/s]"
     ]
    },
    {
     "name": "stdout",
     "output_type": "stream",
     "text": [
      "\n",
      "In Model: input size torch.Size([125, 1, 28, 28])\n",
      "\n",
      "In Model: input size torch.Size([125, 1, 28, 28])\n"
     ]
    },
    {
     "name": "stderr",
     "output_type": "stream",
     "text": [
      "Train Epoch: 1 Loss: 0.732992: 100%|██████████| 240/240 [00:12<00:00, 18.69it/s]\n",
      "Test set: Accuracy: 96%: 100%|██████████████████| 40/40 [00:01<00:00, 31.19it/s]\n",
      "Train Epoch: 2 Loss: 0.374568: 100%|██████████| 240/240 [00:10<00:00, 22.84it/s]\n",
      "Test set: Accuracy: 96%: 100%|██████████████████| 40/40 [00:01<00:00, 30.88it/s]\n",
      "Train Epoch: 3 Loss: 0.316414: 100%|██████████| 240/240 [00:10<00:00, 22.73it/s]\n",
      "Test set: Accuracy: 97%: 100%|██████████████████| 40/40 [00:01<00:00, 33.61it/s]\n",
      "Train Epoch: 4 Loss: 0.285526: 100%|██████████| 240/240 [00:11<00:00, 21.62it/s]\n",
      "Test set: Accuracy: 97%: 100%|██████████████████| 40/40 [00:01<00:00, 30.98it/s]\n",
      "Train Epoch: 5 Loss: 0.259598: 100%|██████████| 240/240 [00:10<00:00, 22.14it/s]\n",
      "Test set: Accuracy: 97%: 100%|██████████████████| 40/40 [00:01<00:00, 32.53it/s]\n"
     ]
    }
   ],
   "source": [
    "def train_DDP(batch_size: int = 64, n_epochs=1):\n",
    "    device = torch.device( f'cuda:{0}' if torch.cuda.is_available() else 'cpu')\n",
    "    model = Net()\n",
    "    optimizer = optim.Adam(model.parameters(), lr=1e-2)\n",
    "    loss_fn = torch.nn.CrossEntropyLoss()\n",
    "    \n",
    "    if torch.cuda.device_count() > 1:\n",
    "        print(f'There are: {torch.cuda.device_count()} GPUs!')\n",
    "        model = torch.nn.DataParallel(model, device_ids=[0,1])\n",
    "        model.to(device)        \n",
    "    else:\n",
    "        model.to(device)\n",
    "    \n",
    "    train_loader, test_loader = get_loaders(batch_size)\n",
    "    highest_acc = 0\n",
    "    for epoch in range(1, n_epochs + 1):\n",
    "        train_bar = notebook_tqdm(train_loader)\n",
    "        model.train()\n",
    "        train_losses = []\n",
    "        for batch_idx, (data, target) in enumerate(train_bar):\n",
    "            optimizer.zero_grad()\n",
    "                        \n",
    "            f = True if not train_losses and epoch ==1 else False    \n",
    "            output = model(data.to(device), f)\n",
    "            loss = loss_fn(output, target.to(device))\n",
    "            loss.backward()\n",
    "            optimizer.step()\n",
    "\n",
    "            train_losses.append(loss.item())\n",
    "            train_bar.set_description(f'Train Epoch: {epoch} Loss: {np.mean(train_losses):.6f}')\n",
    "        \n",
    "\n",
    "        model.eval()\n",
    "        acc = []\n",
    "        test_bar = notebook_tqdm(test_loader)\n",
    "        for data, target in test_bar:\n",
    "            with torch.no_grad():\n",
    "                output = model(data.to(device), False)\n",
    "            acc.extend((torch.argmax(output.softmax(1), dim=1) == target.to(device)).data.cpu().numpy())\n",
    "            test_bar.set_description(f'Test set: Accuracy: {100. * np.mean(acc):.0f}%')\n",
    "        \n",
    "        \n",
    "        if np.mean(acc) > highest_acc:\n",
    "            highest_acc = np.mean(acc)\n",
    "\n",
    "            if torch.cuda.device_count() > 1:\n",
    "                mstate = model.module.state_dict()\n",
    "            else:\n",
    "                mstate = model.state_dict()\n",
    "            save_model(mstate, optimizer, epoch, 'DDP')\n",
    "            \n",
    "            \n",
    "train_DDP(batch_size =250, n_epochs=5)"
   ]
  },
  {
   "cell_type": "code",
   "execution_count": null,
   "id": "1013a791-3887-46b1-ac82-41afa7ea427e",
   "metadata": {},
   "outputs": [],
   "source": []
  }
 ],
 "metadata": {
  "kernelspec": {
   "display_name": "Python 3 (ipykernel)",
   "language": "python",
   "name": "python3"
  },
  "language_info": {
   "codemirror_mode": {
    "name": "ipython",
    "version": 3
   },
   "file_extension": ".py",
   "mimetype": "text/x-python",
   "name": "python",
   "nbconvert_exporter": "python",
   "pygments_lexer": "ipython3",
   "version": "3.9.7"
  }
 },
 "nbformat": 4,
 "nbformat_minor": 5
}
