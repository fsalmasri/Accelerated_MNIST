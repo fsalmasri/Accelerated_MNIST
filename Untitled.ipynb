{
 "cells": [
  {
   "cell_type": "code",
   "execution_count": 1,
   "id": "67516dea-273b-4304-8630-6002707c4fe4",
   "metadata": {},
   "outputs": [
    {
     "name": "stderr",
     "output_type": "stream",
     "text": [
      "/usr/local/lib/python3.9/dist-packages/tqdm/auto.py:21: TqdmWarning: IProgress not found. Please update jupyter and ipywidgets. See https://ipywidgets.readthedocs.io/en/stable/user_install.html\n",
      "  from .autonotebook import tqdm as notebook_tqdm\n"
     ]
    }
   ],
   "source": [
    "import numpy as np \n",
    "import matplotlib.pyplot as plt\n",
    "from tqdm import tqdm as notebook_tqdm\n",
    "\n",
    "import torch\n",
    "import torchvision\n",
    "from torch import nn, optim\n",
    "from torch.nn import init\n",
    "from torchvision import datasets, transforms\n",
    "from accelerate import Accelerator"
   ]
  },
  {
   "cell_type": "code",
   "execution_count": 2,
   "id": "24634346-a0e4-4242-96d1-d6096d3e5f7f",
   "metadata": {},
   "outputs": [
    {
     "data": {
      "text/plain": [
       "<torch._C.Generator at 0x7fcb3a82b3b0>"
      ]
     },
     "execution_count": 2,
     "metadata": {},
     "output_type": "execute_result"
    }
   ],
   "source": [
    "random_seed = 1\n",
    "torch.backends.cudnn.enabled = False\n",
    "torch.manual_seed(random_seed)"
   ]
  },
  {
   "cell_type": "code",
   "execution_count": 3,
   "id": "d937a246-0722-4a36-bf93-3a477e313b7e",
   "metadata": {},
   "outputs": [],
   "source": [
    "transformer = transforms.Compose([torchvision.transforms.ToTensor()])\n",
    "train_loader = torch.utils.data.DataLoader(datasets.MNIST('./files/', train=True, download=True, transform=transformer), batch_size=250, shuffle=True)\n",
    "test_loader = torch.utils.data.DataLoader(datasets.MNIST('./files/', train=False, download=True, transform=transformer), batch_size=250, shuffle=True)"
   ]
  },
  {
   "cell_type": "code",
   "execution_count": 4,
   "id": "65c6885a-155b-4024-a082-573d0c8b3621",
   "metadata": {},
   "outputs": [],
   "source": [
    "class Net(nn.Module):\n",
    "    def __init__(self):\n",
    "        super(Net, self).__init__()\n",
    "        self.conv1 = nn.Sequential(\n",
    "            nn.Conv2d(1, 10, kernel_size=5, stride=2),\n",
    "            nn.ReLU()\n",
    "        )\n",
    "        self.conv2 = nn.Sequential(\n",
    "            nn.Conv2d(10, 20, kernel_size=5, stride=2),\n",
    "            nn.ReLU(),\n",
    "            nn.Dropout2d(),\n",
    "            nn.Flatten()\n",
    "        )\n",
    "        self.fc1 = nn.Sequential(\n",
    "            nn.Linear(320, 50),\n",
    "            nn.ReLU(),\n",
    "            nn.Dropout()\n",
    "        )\n",
    "        self.fc2 = nn.Linear(50, 10)\n",
    "        \n",
    "        self.apply(self._init_weights)\n",
    "        \n",
    "    def forward(self, x):\n",
    "        x = self.conv1(x)\n",
    "        x = self.conv2(x)\n",
    "        x = self.fc1(x)\n",
    "        x = self.fc2(x)\n",
    "        return x\n",
    "    \n",
    "    def _init_weights(self, m):\n",
    "        if isinstance(m, (torch.nn.Conv2d, torch.nn.Linear)):\n",
    "            init.kaiming_normal_(m.weight.data, a=0, mode='fan_in', nonlinearity='relu')\n",
    "            if hasattr(m, 'bias') and m.bias is not None:\n",
    "                init.constant_(m.bias.data, 0.0)"
   ]
  },
  {
   "cell_type": "code",
   "execution_count": 5,
   "id": "2b20d9c4-c25e-4fd7-a47e-08189fff9e93",
   "metadata": {},
   "outputs": [],
   "source": [
    "def train(flag='DDP', n_epochs=5):\n",
    "    device = torch.device('cuda:0')\n",
    "\n",
    "    model = Net()\n",
    "    \n",
    "    if flag == 'DDP':\n",
    "        model = torch.nn.DataParallel(model).to(device)\n",
    "    elif flag == 'HFA':\n",
    "        accelerator = Accelerator()\n",
    "        model.to(device)\n",
    "    \n",
    "    optimizer = optim.Adam(model.parameters(), lr=1e-2)\n",
    "    loss_fn = torch.nn.CrossEntropyLoss()\n",
    "\n",
    "\n",
    "    train_losses = []\n",
    "    test_losses = []\n",
    "    test_counter = [i*len(train_loader.dataset) for i in range(n_epochs + 1)]\n",
    "\n",
    "    highest_acc = 0\n",
    "    for epoch in range(1, n_epochs + 1):\n",
    "        train_bar = notebook_tqdm(train_loader)\n",
    "        model.train()\n",
    "        for batch_idx, (data, target) in enumerate(train_bar):\n",
    "            optimizer.zero_grad()\n",
    "            output = model(data.to(device))\n",
    "            loss = loss_fn(output, target.to(device))\n",
    "            \n",
    "            if flag == 'DDP':\n",
    "                loss.backward()\n",
    "            elif flag == 'HFA':\n",
    "                accelerator.backward(loss)\n",
    "            \n",
    "            optimizer.step()\n",
    "\n",
    "            train_losses.append(loss.item())\n",
    "            train_bar.set_description(f'Train Epoch: {epoch} Loss: {np.mean(train_losses):.6f}')\n",
    "        \n",
    "\n",
    "        model.eval()\n",
    "        acc = []\n",
    "        test_bar = notebook_tqdm(test_loader)\n",
    "        for data, target in test_bar:\n",
    "            with torch.no_grad():\n",
    "                output = model(data.to(device))\n",
    "            acc.extend((torch.argmax(output.softmax(1), dim=1) == target.to(device)).data.cpu().numpy())\n",
    "            test_bar.set_description(f'Test set: Accuracy: {100. * np.mean(acc):.0f}%')\n",
    "        \n",
    "        \n",
    "        if np.mean(acc) > highest_acc:\n",
    "            highest_acc = np.mean(acc)\n",
    "\n",
    "            if flag == 'DDP':\n",
    "                mstate = model.module.state_dict()\n",
    "            elif flag == 'HFA':\n",
    "                mstate = model.state_dict()\n",
    "\n",
    "            torch.save({'model_state_dict': mstate,\n",
    "                        'optimizer': optimizer.state_dict(),\n",
    "                        'epoch': epoch},\n",
    "                        f'model_{flag}.pt')\n"
   ]
  },
  {
   "cell_type": "code",
   "execution_count": 6,
   "id": "1f876317-a8d4-4cf1-986f-a0553bc61e3a",
   "metadata": {},
   "outputs": [
    {
     "name": "stderr",
     "output_type": "stream",
     "text": [
      "Train Epoch: 1 Loss: 0.732992: 100%|██████████| 240/240 [00:13<00:00, 17.35it/s]\n",
      "Test set: Accuracy: 96%: 100%|██████████████████| 40/40 [00:01<00:00, 30.79it/s]\n",
      "Train Epoch: 2 Loss: 0.553780: 100%|██████████| 240/240 [00:11<00:00, 21.72it/s]\n",
      "Test set: Accuracy: 96%: 100%|██████████████████| 40/40 [00:01<00:00, 30.07it/s]\n",
      "Train Epoch: 3 Loss: 0.474658: 100%|██████████| 240/240 [00:11<00:00, 21.31it/s]\n",
      "Test set: Accuracy: 97%: 100%|██████████████████| 40/40 [00:01<00:00, 31.89it/s]\n",
      "Train Epoch: 4 Loss: 0.427375: 100%|██████████| 240/240 [00:10<00:00, 22.17it/s]\n",
      "Test set: Accuracy: 97%: 100%|██████████████████| 40/40 [00:01<00:00, 31.05it/s]\n",
      "Train Epoch: 5 Loss: 0.393820: 100%|██████████| 240/240 [00:11<00:00, 21.18it/s]\n",
      "Test set: Accuracy: 97%: 100%|██████████████████| 40/40 [00:01<00:00, 35.00it/s]\n"
     ]
    }
   ],
   "source": [
    "train(flag='DDP')"
   ]
  },
  {
   "cell_type": "code",
   "execution_count": 7,
   "id": "d7a6ca75-cac8-43a8-8cb1-03374b7506f6",
   "metadata": {},
   "outputs": [
    {
     "name": "stderr",
     "output_type": "stream",
     "text": [
      "Train Epoch: 1 Loss: 0.611305: 100%|██████████| 240/240 [00:11<00:00, 21.56it/s]\n",
      "Test set: Accuracy: 96%: 100%|██████████████████| 40/40 [00:01<00:00, 37.20it/s]\n",
      "Train Epoch: 2 Loss: 0.458234: 100%|██████████| 240/240 [00:11<00:00, 21.35it/s]\n",
      "Test set: Accuracy: 97%: 100%|██████████████████| 40/40 [00:01<00:00, 36.81it/s]\n",
      "Train Epoch: 3 Loss: 0.390392: 100%|██████████| 240/240 [00:11<00:00, 21.60it/s]\n",
      "Test set: Accuracy: 97%: 100%|██████████████████| 40/40 [00:01<00:00, 32.60it/s]\n",
      "Train Epoch: 4 Loss: 0.352052: 100%|██████████| 240/240 [00:11<00:00, 21.70it/s]\n",
      "Test set: Accuracy: 98%: 100%|██████████████████| 40/40 [00:01<00:00, 34.53it/s]\n",
      "Train Epoch: 5 Loss: 0.326551: 100%|██████████| 240/240 [00:10<00:00, 21.91it/s]\n",
      "Test set: Accuracy: 98%: 100%|██████████████████| 40/40 [00:01<00:00, 36.18it/s]\n"
     ]
    }
   ],
   "source": [
    "train(flag='HFA')"
   ]
  },
  {
   "cell_type": "code",
   "execution_count": null,
   "id": "e0eb5b6d-8654-43d5-b36f-316c25443645",
   "metadata": {},
   "outputs": [],
   "source": []
  }
 ],
 "metadata": {
  "kernelspec": {
   "display_name": "Python 3 (ipykernel)",
   "language": "python",
   "name": "python3"
  },
  "language_info": {
   "codemirror_mode": {
    "name": "ipython",
    "version": 3
   },
   "file_extension": ".py",
   "mimetype": "text/x-python",
   "name": "python",
   "nbconvert_exporter": "python",
   "pygments_lexer": "ipython3",
   "version": "3.9.7"
  }
 },
 "nbformat": 4,
 "nbformat_minor": 5
}
